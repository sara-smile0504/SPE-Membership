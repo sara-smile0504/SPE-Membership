{
 "cells": [
  {
   "cell_type": "markdown",
   "metadata": {},
   "source": [
    "This code was to clean the professional members sheet from the excel file given in the SPE members spreadsheet. Removed beginning acronymns so could join tables in SQL with a unique primary key. Also changed the 'Y's indicating yes to 1 so easier manipulation with the business intelligence tools in the long run. Or could have been redunant. "
   ]
  },
  {
   "cell_type": "code",
   "execution_count": 12,
   "metadata": {
    "scrolled": true
   },
   "outputs": [],
   "source": [
    "import pandas as pd\n",
    "#instead of trying to read in each sheet just created a separate excel file as that would be necessary to have for SQL\n",
    "professional_members = pd.read_excel('C:\\\\Users\\\\foster-s\\\\OneDrive - Texas A&M University\\\\SPE\\\\professional_members.xlsx')\n",
    "\n",
    "#The original spreadsheet had various acronymns in front such as Dr., Mr., Mrs., Ms. and even Dr, Mrs, Ms, Mr\n",
    "#It was necessary to first convert because the column is seen as an object then replace the acronymns with a blank\n",
    "#will further be necessary probably to probably replace the Y in each column with either a 1 or 0 so we can have a count\n",
    "professional_members['Name'] = professional_members['Name'].str.replace(\"Dr\", \"\")\n",
    "professional_members['Name'] = professional_members['Name'].str.replace(\"Mr\", \"\")\n",
    "professional_members['Name'] = professional_members['Name'].str.replace(\"Ms\", \"\")\n",
    "professional_members['Name'] = professional_members['Name'].str.replace(\"Mrs\", \"\")\n",
    "professional_members['Name'] = professional_members['Name'].str.replace(\".\", \"\")\n",
    "\n",
    "#Now we need to replace the Ys with 1s as it's just going to be easier in the long run with numeric I think\n",
    "professional_members['Current Member'] = professional_members['Current Member'].replace(\"Y\", 1)\n",
    "professional_members['New Member (March)'] = professional_members['New Member (March)'].replace(\"Y\", 1)\n",
    "professional_members['Recent Grad'] = professional_members['Recent Grad'].replace(\"Y\", 1)\n",
    "professional_members['Young Professional'] = professional_members['Young Professional'].replace(\"Y\", 1)\n",
    "professional_members['Senior Professional'] = professional_members['Senior Professional'].replace(\"Y\", 1)\n",
    "professional_members['Affiliate Member'] = professional_members['Affiliate Member'].replace(\"Y\", 1)\n",
    "professional_members['Award Recipient'] = professional_members['Award Recipient'].replace(\"Y\", 1)\n",
    "professional_members['Author'] = professional_members['Author'].replace(\"Y\", 1)\n",
    "professional_members['Current or past volunteer'] = professional_members['Current or past volunteer'].replace(\"Y\", 1)\n",
    "\n",
    "\n",
    "#export results into a new excel file\n",
    "professional_members.to_excel('C:\\\\Users\\\\foster-s\\\\OneDrive - Texas A&M University\\\\SPE\\\\cleaned_professional_members.xlsx')\n"
   ]
  },
  {
   "cell_type": "markdown",
   "metadata": {},
   "source": [
    "This next series of code was done to clean the member education sheet from the excile file given in the SPE members spreadsheet. Removed beginning acronymns so could join tables in SQL with a unique primary key generated based off distinct member names. "
   ]
  },
  {
   "cell_type": "code",
   "execution_count": 11,
   "metadata": {},
   "outputs": [],
   "source": [
    "import pandas as pd\n",
    "#instead of trying to read in each sheet just created a separate excel file as that would be necessary to have for SQL\n",
    "member_education = pd.read_excel('C:\\\\Users\\\\foster-s\\\\OneDrive - Texas A&M University\\\\SPE\\\\member_education.xlsx')\n",
    "\n",
    "#The original spreadsheet had various acronymns in front such as Dr., Mr., Mrs., Ms. and even Dr, Mrs, Ms, Mr\n",
    "#It was necessary to first convert because the column is seen as an object then replace the acronymns with a blank\n",
    "member_education['Member'] = member_education['Member'].str.replace(\"Dr\", \"\")\n",
    "member_education['Member'] = member_education['Member'].str.replace(\"Mr\", \"\")\n",
    "member_education['Member'] = member_education['Member'].str.replace(\"Ms\", \"\")\n",
    "member_education['Member'] = member_education['Member'].str.replace(\"Mrs\", \"\")\n",
    "member_education['Member'] = member_education['Member'].str.replace(\".\", \"\")\n",
    "\n",
    "#Create new excel files with the cleaned data. Ended up creating a new folder to hold all of them.\n",
    "member_education.to_excel('C:\\\\Users\\\\foster-s\\\\OneDrive - Texas A&M University\\\\SPE\\\\cleaned_member_education.xlsx')\n"
   ]
  },
  {
   "cell_type": "markdown",
   "metadata": {},
   "source": [
    "This sort of cleaning done in the above lines will have to be applied to each spreadsheet so we'll go ahead and do that here. Thing to note is sometimes the members are labeled either as Member or Name (see the memeber educaiton and professional members files for clarity). Volunteers and the professional members sheets both have a column denoted as \"Name\" whereas the education, authors, and award recipients all have the column labeled as \"Member\"."
   ]
  },
  {
   "cell_type": "code",
   "execution_count": 4,
   "metadata": {},
   "outputs": [],
   "source": [
    "import pandas as pd\n",
    "\n",
    "#read in the volunteers file that was separated out from the main file\n",
    "volunteers = pd.read_excel('C:\\\\Users\\\\foster-s\\\\OneDrive - Texas A&M University\\\\SPE\\\\volunteers.xlsx')\n",
    "\n",
    "#read in the award recipients file that was separated out from the main file\n",
    "award_recipients = pd.read_excel('C:\\\\Users\\\\foster-s\\\\OneDrive - Texas A&M University\\\\SPE\\\\award_recipients.xlsx')\n",
    "\n",
    "#read in the authors file that was separated out from the main file\n",
    "authors = pd.read_excel('C:\\\\Users\\\\foster-s\\\\OneDrive - Texas A&M University\\\\SPE\\\\authors.xlsx')\n",
    "\n",
    "#Let's go ahead and do cleaning on the volunteer file first as this has the column labeled as \"Name\"\n",
    "volunteers['Name'] = volunteers['Name'].str.replace(\"Dr\", \"\")\n",
    "volunteers['Name'] = volunteers['Name'].str.replace(\"Mr\", \"\")\n",
    "volunteers['Name'] = volunteers['Name'].str.replace(\"Ms\", \"\")\n",
    "volunteers['Name'] = volunteers['Name'].str.replace(\"Mrs\", \"\")\n",
    "volunteers['Name'] = volunteers['Name'].str.replace(\".\", \"\")\n",
    "\n",
    "#Now to do the award recipients and the authors file as these are labeled with a column as \"Member\"\n",
    "award_recipients['Member'] = award_recipients['Member'].str.replace(\"Dr\", \"\")\n",
    "award_recipients['Member'] = award_recipients['Member'].str.replace(\"Mr\", \"\")\n",
    "award_recipients['Member'] = award_recipients['Member'].str.replace(\"Ms\", \"\")\n",
    "award_recipients['Member'] = award_recipients['Member'].str.replace(\"Mrs\", \"\")\n",
    "award_recipients['Member'] = award_recipients['Member'].str.replace(\".\", \"\")\n",
    "\n",
    "#Go ahead and do the authors file as well.\n",
    "authors['Member'] = authors['Member'].str.replace(\"Dr\", \"\")\n",
    "authors['Member'] = authors['Member'].str.replace(\"Mr\", \"\")\n",
    "authors['Member'] = authors['Member'].str.replace(\"Ms\", \"\")\n",
    "authors['Member'] = authors['Member'].str.replace(\"Mrs\", \"\")\n",
    "authors['Member'] = authors['Member'].str.replace(\".\", \"\")\n",
    "\n",
    "#Create new excel files with the cleaned data. Ended up creating a new folder to hold all of them.\n",
    "volunteers.to_excel('C:\\\\Users\\\\foster-s\\\\OneDrive - Texas A&M University\\\\SPE\\\\Cleaned Sheets\\\\cleaned_volunteers.xlsx')\n",
    "award_recipients.to_excel('C:\\\\Users\\\\foster-s\\\\OneDrive - Texas A&M University\\\\SPE\\\\Cleaned Sheets\\\\cleaned_award_recipients.xlsx')\n",
    "authors.to_excel('C:\\\\Users\\\\foster-s\\\\OneDrive - Texas A&M University\\\\SPE\\\\Cleaned Sheets\\\\cleaned_authors.xlsx')"
   ]
  },
  {
   "cell_type": "code",
   "execution_count": null,
   "metadata": {},
   "outputs": [],
   "source": []
  }
 ],
 "metadata": {
  "kernelspec": {
   "display_name": "Python 3",
   "language": "python",
   "name": "python3"
  },
  "language_info": {
   "codemirror_mode": {
    "name": "ipython",
    "version": 3
   },
   "file_extension": ".py",
   "mimetype": "text/x-python",
   "name": "python",
   "nbconvert_exporter": "python",
   "pygments_lexer": "ipython3",
   "version": "3.8.3"
  }
 },
 "nbformat": 4,
 "nbformat_minor": 4
}
